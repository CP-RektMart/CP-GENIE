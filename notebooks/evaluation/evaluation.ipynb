{
 "cells": [
  {
   "cell_type": "markdown",
   "id": "95f22b08",
   "metadata": {},
   "source": [
    "# RAG Evaluation with Ragas"
   ]
  },
  {
   "cell_type": "code",
   "execution_count": 2,
   "id": "f002ce2f",
   "metadata": {},
   "outputs": [
    {
     "name": "stderr",
     "output_type": "stream",
     "text": [
      "/home/patthapol/NLP/CP-GENIE/venv/lib/python3.10/site-packages/tqdm/auto.py:21: TqdmWarning: IProgress not found. Please update jupyter and ipywidgets. See https://ipywidgets.readthedocs.io/en/stable/user_install.html\n",
      "  from .autonotebook import tqdm as notebook_tqdm\n"
     ]
    }
   ],
   "source": [
    "import pandas as pd\n",
    "from ragas import evaluate, EvaluationDataset\n",
    "\n",
    "pd.set_option('display.max_colwidth', None)"
   ]
  },
  {
   "cell_type": "code",
   "execution_count": 3,
   "id": "c9540921",
   "metadata": {},
   "outputs": [],
   "source": [
    "import json\n",
    "with open('test_questions.json', 'r') as f:\n",
    "    questions = json.load(f)"
   ]
  },
  {
   "cell_type": "code",
   "execution_count": 4,
   "id": "813db053",
   "metadata": {},
   "outputs": [],
   "source": [
    "import os\n",
    "os.environ[\"GOOGLE_API_KEY\"] = \"...\""
   ]
  },
  {
   "cell_type": "code",
   "execution_count": 5,
   "id": "12d26cf0",
   "metadata": {},
   "outputs": [],
   "source": [
    "os.environ[\"GOOGLE_APPLICATION_CREDENTIALS\"] = \"...\""
   ]
  },
  {
   "cell_type": "code",
   "execution_count": 6,
   "id": "060c803a",
   "metadata": {},
   "outputs": [],
   "source": [
    "# # Evaluator LLM\n",
    "# from langchain_google_genai import ChatGoogleGenerativeAI\n",
    "\n",
    "# llm = ChatGoogleGenerativeAI(model=\"gemini-2.5-flash-preview-04-17\")"
   ]
  },
  {
   "cell_type": "code",
   "execution_count": null,
   "id": "f901e8af",
   "metadata": {},
   "outputs": [
    {
     "ename": "GoogleAuthError",
     "evalue": "Unable to find your project. Please provide a project ID by:\n- Passing a constructor argument\n- Using vertexai.init()\n- Setting project using 'gcloud config set project my-project'\n- Setting a GCP environment variable\n- To create a Google Cloud project, please follow guidance at https://developers.google.com/workspace/guides/create-project",
     "output_type": "error",
     "traceback": [
      "\u001b[0;31m---------------------------------------------------------------------------\u001b[0m",
      "\u001b[0;31mDefaultCredentialsError\u001b[0m                   Traceback (most recent call last)",
      "File \u001b[0;32m~/NLP/CP-GENIE/venv/lib/python3.10/site-packages/google/cloud/aiplatform/initializer.py:365\u001b[0m, in \u001b[0;36m_Config.project\u001b[0;34m(self)\u001b[0m\n\u001b[1;32m    364\u001b[0m \u001b[38;5;28;01mtry\u001b[39;00m:\n\u001b[0;32m--> 365\u001b[0m     \u001b[38;5;28;43mself\u001b[39;49m\u001b[38;5;241;43m.\u001b[39;49m\u001b[43m_set_project_as_env_var_or_google_auth_default\u001b[49m\u001b[43m(\u001b[49m\u001b[43m)\u001b[49m\n\u001b[1;32m    366\u001b[0m     project_id \u001b[38;5;241m=\u001b[39m \u001b[38;5;28mself\u001b[39m\u001b[38;5;241m.\u001b[39m_project\n",
      "File \u001b[0;32m~/NLP/CP-GENIE/venv/lib/python3.10/site-packages/google/cloud/aiplatform/initializer.py:112\u001b[0m, in \u001b[0;36m_Config._set_project_as_env_var_or_google_auth_default\u001b[0;34m(self)\u001b[0m\n\u001b[1;32m    111\u001b[0m \u001b[38;5;28;01melse\u001b[39;00m:\n\u001b[0;32m--> 112\u001b[0m     credentials, project \u001b[38;5;241m=\u001b[39m \u001b[43mgoogle\u001b[49m\u001b[38;5;241;43m.\u001b[39;49m\u001b[43mauth\u001b[49m\u001b[38;5;241;43m.\u001b[39;49m\u001b[43mdefault\u001b[49m\u001b[43m(\u001b[49m\u001b[43m)\u001b[49m\n\u001b[1;32m    113\u001b[0m     \u001b[38;5;28mself\u001b[39m\u001b[38;5;241m.\u001b[39m_credentials \u001b[38;5;241m=\u001b[39m \u001b[38;5;28mself\u001b[39m\u001b[38;5;241m.\u001b[39m_credentials \u001b[38;5;129;01mor\u001b[39;00m credentials\n",
      "File \u001b[0;32m~/NLP/CP-GENIE/venv/lib/python3.10/site-packages/google/auth/_default.py:651\u001b[0m, in \u001b[0;36mdefault\u001b[0;34m(scopes, request, quota_project_id, default_scopes)\u001b[0m\n\u001b[1;32m    650\u001b[0m \u001b[38;5;28;01mfor\u001b[39;00m checker \u001b[38;5;129;01min\u001b[39;00m checkers:\n\u001b[0;32m--> 651\u001b[0m     credentials, project_id \u001b[38;5;241m=\u001b[39m \u001b[43mchecker\u001b[49m\u001b[43m(\u001b[49m\u001b[43m)\u001b[49m\n\u001b[1;32m    652\u001b[0m     \u001b[38;5;28;01mif\u001b[39;00m credentials \u001b[38;5;129;01mis\u001b[39;00m \u001b[38;5;129;01mnot\u001b[39;00m \u001b[38;5;28;01mNone\u001b[39;00m:\n",
      "File \u001b[0;32m~/NLP/CP-GENIE/venv/lib/python3.10/site-packages/google/auth/_default.py:644\u001b[0m, in \u001b[0;36mdefault.<locals>.<lambda>\u001b[0;34m()\u001b[0m\n\u001b[1;32m    635\u001b[0m explicit_project_id \u001b[38;5;241m=\u001b[39m os\u001b[38;5;241m.\u001b[39menviron\u001b[38;5;241m.\u001b[39mget(\n\u001b[1;32m    636\u001b[0m     environment_vars\u001b[38;5;241m.\u001b[39mPROJECT, os\u001b[38;5;241m.\u001b[39menviron\u001b[38;5;241m.\u001b[39mget(environment_vars\u001b[38;5;241m.\u001b[39mLEGACY_PROJECT)\n\u001b[1;32m    637\u001b[0m )\n\u001b[1;32m    639\u001b[0m checkers \u001b[38;5;241m=\u001b[39m (\n\u001b[1;32m    640\u001b[0m     \u001b[38;5;66;03m# Avoid passing scopes here to prevent passing scopes to user credentials.\u001b[39;00m\n\u001b[1;32m    641\u001b[0m     \u001b[38;5;66;03m# with_scopes_if_required() below will ensure scopes/default scopes are\u001b[39;00m\n\u001b[1;32m    642\u001b[0m     \u001b[38;5;66;03m# safely set on the returned credentials since requires_scopes will\u001b[39;00m\n\u001b[1;32m    643\u001b[0m     \u001b[38;5;66;03m# guard against setting scopes on user credentials.\u001b[39;00m\n\u001b[0;32m--> 644\u001b[0m     \u001b[38;5;28;01mlambda\u001b[39;00m: \u001b[43m_get_explicit_environ_credentials\u001b[49m\u001b[43m(\u001b[49m\u001b[43mquota_project_id\u001b[49m\u001b[38;5;241;43m=\u001b[39;49m\u001b[43mquota_project_id\u001b[49m\u001b[43m)\u001b[49m,\n\u001b[1;32m    645\u001b[0m     \u001b[38;5;28;01mlambda\u001b[39;00m: _get_gcloud_sdk_credentials(quota_project_id\u001b[38;5;241m=\u001b[39mquota_project_id),\n\u001b[1;32m    646\u001b[0m     _get_gae_credentials,\n\u001b[1;32m    647\u001b[0m     \u001b[38;5;28;01mlambda\u001b[39;00m: _get_gce_credentials(request, quota_project_id\u001b[38;5;241m=\u001b[39mquota_project_id),\n\u001b[1;32m    648\u001b[0m )\n\u001b[1;32m    650\u001b[0m \u001b[38;5;28;01mfor\u001b[39;00m checker \u001b[38;5;129;01min\u001b[39;00m checkers:\n",
      "File \u001b[0;32m~/NLP/CP-GENIE/venv/lib/python3.10/site-packages/google/auth/_default.py:293\u001b[0m, in \u001b[0;36m_get_explicit_environ_credentials\u001b[0;34m(quota_project_id)\u001b[0m\n\u001b[1;32m    292\u001b[0m \u001b[38;5;28;01mif\u001b[39;00m explicit_file \u001b[38;5;129;01mis\u001b[39;00m \u001b[38;5;129;01mnot\u001b[39;00m \u001b[38;5;28;01mNone\u001b[39;00m:\n\u001b[0;32m--> 293\u001b[0m     credentials, project_id \u001b[38;5;241m=\u001b[39m \u001b[43mload_credentials_from_file\u001b[49m\u001b[43m(\u001b[49m\n\u001b[1;32m    294\u001b[0m \u001b[43m        \u001b[49m\u001b[43mos\u001b[49m\u001b[38;5;241;43m.\u001b[39;49m\u001b[43menviron\u001b[49m\u001b[43m[\u001b[49m\u001b[43menvironment_vars\u001b[49m\u001b[38;5;241;43m.\u001b[39;49m\u001b[43mCREDENTIALS\u001b[49m\u001b[43m]\u001b[49m\u001b[43m,\u001b[49m\u001b[43m \u001b[49m\u001b[43mquota_project_id\u001b[49m\u001b[38;5;241;43m=\u001b[39;49m\u001b[43mquota_project_id\u001b[49m\n\u001b[1;32m    295\u001b[0m \u001b[43m    \u001b[49m\u001b[43m)\u001b[49m\n\u001b[1;32m    296\u001b[0m     credentials\u001b[38;5;241m.\u001b[39m_cred_file_path \u001b[38;5;241m=\u001b[39m \u001b[38;5;124mf\u001b[39m\u001b[38;5;124m\"\u001b[39m\u001b[38;5;132;01m{\u001b[39;00mexplicit_file\u001b[38;5;132;01m}\u001b[39;00m\u001b[38;5;124m file via the GOOGLE_APPLICATION_CREDENTIALS environment variable\u001b[39m\u001b[38;5;124m\"\u001b[39m\n",
      "File \u001b[0;32m~/NLP/CP-GENIE/venv/lib/python3.10/site-packages/google/auth/_default.py:125\u001b[0m, in \u001b[0;36mload_credentials_from_file\u001b[0;34m(filename, scopes, default_scopes, quota_project_id, request)\u001b[0m\n\u001b[1;32m    124\u001b[0m \u001b[38;5;28;01mif\u001b[39;00m \u001b[38;5;129;01mnot\u001b[39;00m os\u001b[38;5;241m.\u001b[39mpath\u001b[38;5;241m.\u001b[39mexists(filename):\n\u001b[0;32m--> 125\u001b[0m     \u001b[38;5;28;01mraise\u001b[39;00m exceptions\u001b[38;5;241m.\u001b[39mDefaultCredentialsError(\n\u001b[1;32m    126\u001b[0m         \u001b[38;5;124m\"\u001b[39m\u001b[38;5;124mFile \u001b[39m\u001b[38;5;132;01m{}\u001b[39;00m\u001b[38;5;124m was not found.\u001b[39m\u001b[38;5;124m\"\u001b[39m\u001b[38;5;241m.\u001b[39mformat(filename)\n\u001b[1;32m    127\u001b[0m     )\n\u001b[1;32m    129\u001b[0m \u001b[38;5;28;01mwith\u001b[39;00m io\u001b[38;5;241m.\u001b[39mopen(filename, \u001b[38;5;124m\"\u001b[39m\u001b[38;5;124mr\u001b[39m\u001b[38;5;124m\"\u001b[39m) \u001b[38;5;28;01mas\u001b[39;00m file_obj:\n",
      "\u001b[0;31mDefaultCredentialsError\u001b[0m: File ... was not found.",
      "\nThe above exception was the direct cause of the following exception:\n",
      "\u001b[0;31mGoogleAuthError\u001b[0m                           Traceback (most recent call last)",
      "Cell \u001b[0;32mIn[7], line 3\u001b[0m\n\u001b[1;32m      1\u001b[0m \u001b[38;5;28;01mfrom\u001b[39;00m\u001b[38;5;250m \u001b[39m\u001b[38;5;21;01mlangchain_google_vertexai\u001b[39;00m\u001b[38;5;250m \u001b[39m\u001b[38;5;28;01mimport\u001b[39;00m ChatVertexAI\n\u001b[0;32m----> 3\u001b[0m llm \u001b[38;5;241m=\u001b[39m \u001b[43mChatVertexAI\u001b[49m\u001b[43m(\u001b[49m\u001b[43mmodel\u001b[49m\u001b[38;5;241;43m=\u001b[39;49m\u001b[38;5;124;43m\"\u001b[39;49m\u001b[38;5;124;43mgemini-2.5-flash-preview-04-17\u001b[39;49m\u001b[38;5;124;43m\"\u001b[39;49m\u001b[43m)\u001b[49m\n",
      "File \u001b[0;32m~/NLP/CP-GENIE/venv/lib/python3.10/site-packages/langchain_google_vertexai/chat_models.py:1202\u001b[0m, in \u001b[0;36mChatVertexAI.__init__\u001b[0;34m(self, model_name, **kwargs)\u001b[0m\n\u001b[1;32m   1195\u001b[0m         suggestion \u001b[38;5;241m=\u001b[39m (\n\u001b[1;32m   1196\u001b[0m             \u001b[38;5;124mf\u001b[39m\u001b[38;5;124m\"\u001b[39m\u001b[38;5;124m Did you mean: \u001b[39m\u001b[38;5;124m'\u001b[39m\u001b[38;5;132;01m{\u001b[39;00msuggestions[\u001b[38;5;241m0\u001b[39m]\u001b[38;5;132;01m}\u001b[39;00m\u001b[38;5;124m'\u001b[39m\u001b[38;5;124m?\u001b[39m\u001b[38;5;124m\"\u001b[39m \u001b[38;5;28;01mif\u001b[39;00m suggestions \u001b[38;5;28;01melse\u001b[39;00m \u001b[38;5;124m\"\u001b[39m\u001b[38;5;124m\"\u001b[39m\n\u001b[1;32m   1197\u001b[0m         )\n\u001b[1;32m   1198\u001b[0m         logger\u001b[38;5;241m.\u001b[39mwarning(\n\u001b[1;32m   1199\u001b[0m             \u001b[38;5;124mf\u001b[39m\u001b[38;5;124m\"\u001b[39m\u001b[38;5;124mUnexpected argument \u001b[39m\u001b[38;5;124m'\u001b[39m\u001b[38;5;132;01m{\u001b[39;00marg\u001b[38;5;132;01m}\u001b[39;00m\u001b[38;5;124m'\u001b[39m\u001b[38;5;124m \u001b[39m\u001b[38;5;124m\"\u001b[39m\n\u001b[1;32m   1200\u001b[0m             \u001b[38;5;124mf\u001b[39m\u001b[38;5;124m\"\u001b[39m\u001b[38;5;124mprovided to ChatVertexAI.\u001b[39m\u001b[38;5;132;01m{\u001b[39;00msuggestion\u001b[38;5;132;01m}\u001b[39;00m\u001b[38;5;124m\"\u001b[39m\n\u001b[1;32m   1201\u001b[0m         )\n\u001b[0;32m-> 1202\u001b[0m \u001b[38;5;28;43msuper\u001b[39;49m\u001b[43m(\u001b[49m\u001b[43m)\u001b[49m\u001b[38;5;241;43m.\u001b[39;49m\u001b[38;5;21;43m__init__\u001b[39;49m\u001b[43m(\u001b[49m\u001b[38;5;241;43m*\u001b[39;49m\u001b[38;5;241;43m*\u001b[39;49m\u001b[43mkwargs\u001b[49m\u001b[43m)\u001b[49m\n",
      "File \u001b[0;32m~/NLP/CP-GENIE/venv/lib/python3.10/site-packages/langchain_core/load/serializable.py:130\u001b[0m, in \u001b[0;36mSerializable.__init__\u001b[0;34m(self, *args, **kwargs)\u001b[0m\n\u001b[1;32m    128\u001b[0m \u001b[38;5;28;01mdef\u001b[39;00m\u001b[38;5;250m \u001b[39m\u001b[38;5;21m__init__\u001b[39m(\u001b[38;5;28mself\u001b[39m, \u001b[38;5;241m*\u001b[39margs: Any, \u001b[38;5;241m*\u001b[39m\u001b[38;5;241m*\u001b[39mkwargs: Any) \u001b[38;5;241m-\u001b[39m\u001b[38;5;241m>\u001b[39m \u001b[38;5;28;01mNone\u001b[39;00m:\n\u001b[1;32m    129\u001b[0m \u001b[38;5;250m    \u001b[39m\u001b[38;5;124;03m\"\"\"\"\"\"\u001b[39;00m  \u001b[38;5;66;03m# noqa: D419\u001b[39;00m\n\u001b[0;32m--> 130\u001b[0m     \u001b[38;5;28;43msuper\u001b[39;49m\u001b[43m(\u001b[49m\u001b[43m)\u001b[49m\u001b[38;5;241;43m.\u001b[39;49m\u001b[38;5;21;43m__init__\u001b[39;49m\u001b[43m(\u001b[49m\u001b[38;5;241;43m*\u001b[39;49m\u001b[43margs\u001b[49m\u001b[43m,\u001b[49m\u001b[43m \u001b[49m\u001b[38;5;241;43m*\u001b[39;49m\u001b[38;5;241;43m*\u001b[39;49m\u001b[43mkwargs\u001b[49m\u001b[43m)\u001b[49m\n",
      "    \u001b[0;31m[... skipping hidden 1 frame]\u001b[0m\n",
      "File \u001b[0;32m~/NLP/CP-GENIE/venv/lib/python3.10/site-packages/langchain_google_vertexai/_base.py:136\u001b[0m, in \u001b[0;36m_VertexAIBase.validate_project\u001b[0;34m(self)\u001b[0m\n\u001b[1;32m    134\u001b[0m         \u001b[38;5;28mself\u001b[39m\u001b[38;5;241m.\u001b[39mproject \u001b[38;5;241m=\u001b[39m \u001b[38;5;28mself\u001b[39m\u001b[38;5;241m.\u001b[39mcredentials\u001b[38;5;241m.\u001b[39mproject_id\n\u001b[1;32m    135\u001b[0m     \u001b[38;5;28;01melse\u001b[39;00m:\n\u001b[0;32m--> 136\u001b[0m         \u001b[38;5;28mself\u001b[39m\u001b[38;5;241m.\u001b[39mproject \u001b[38;5;241m=\u001b[39m \u001b[43minitializer\u001b[49m\u001b[38;5;241;43m.\u001b[39;49m\u001b[43mglobal_config\u001b[49m\u001b[38;5;241;43m.\u001b[39;49m\u001b[43mproject\u001b[49m\n\u001b[1;32m    137\u001b[0m \u001b[38;5;28;01mreturn\u001b[39;00m \u001b[38;5;28mself\u001b[39m\n",
      "File \u001b[0;32m~/NLP/CP-GENIE/venv/lib/python3.10/site-packages/google/cloud/aiplatform/initializer.py:368\u001b[0m, in \u001b[0;36m_Config.project\u001b[0;34m(self)\u001b[0m\n\u001b[1;32m    366\u001b[0m     project_id \u001b[38;5;241m=\u001b[39m \u001b[38;5;28mself\u001b[39m\u001b[38;5;241m.\u001b[39m_project\n\u001b[1;32m    367\u001b[0m \u001b[38;5;28;01mexcept\u001b[39;00m GoogleAuthError \u001b[38;5;28;01mas\u001b[39;00m exc:\n\u001b[0;32m--> 368\u001b[0m     \u001b[38;5;28;01mraise\u001b[39;00m GoogleAuthError(project_not_found_exception_str) \u001b[38;5;28;01mfrom\u001b[39;00m\u001b[38;5;250m \u001b[39m\u001b[38;5;21;01mexc\u001b[39;00m\n\u001b[1;32m    370\u001b[0m \u001b[38;5;28;01mif\u001b[39;00m \u001b[38;5;129;01mnot\u001b[39;00m project_id \u001b[38;5;129;01mand\u001b[39;00m \u001b[38;5;129;01mnot\u001b[39;00m \u001b[38;5;28mself\u001b[39m\u001b[38;5;241m.\u001b[39mapi_key:\n\u001b[1;32m    371\u001b[0m     \u001b[38;5;28;01mraise\u001b[39;00m \u001b[38;5;167;01mValueError\u001b[39;00m(project_not_found_exception_str)\n",
      "\u001b[0;31mGoogleAuthError\u001b[0m: Unable to find your project. Please provide a project ID by:\n- Passing a constructor argument\n- Using vertexai.init()\n- Setting project using 'gcloud config set project my-project'\n- Setting a GCP environment variable\n- To create a Google Cloud project, please follow guidance at https://developers.google.com/workspace/guides/create-project"
     ]
    }
   ],
   "source": [
    "from langchain_google_vertexai import ChatVertexAI\n",
    "\n",
    "llm = ChatVertexAI(model=\"gemini-2.5-flash-preview-04-17\", project=\"...\", location=\"...\")"
   ]
  },
  {
   "cell_type": "code",
   "execution_count": 32,
   "id": "9fbdd49c",
   "metadata": {},
   "outputs": [],
   "source": [
    "# Embedding\n",
    "from langchain_google_genai import GoogleGenerativeAIEmbeddings\n",
    "\n",
    "embeddings = GoogleGenerativeAIEmbeddings(\n",
    "    model=\"models/gemini-embedding-exp-03-07\",\n",
    "    task_type=\"retrieval_document\"\n",
    ")"
   ]
  },
  {
   "cell_type": "code",
   "execution_count": 33,
   "id": "8e8f84d7",
   "metadata": {},
   "outputs": [],
   "source": [
    "dataset = []\n",
    "count = 0\n",
    "limit = 5\n",
    "\n",
    "for question in questions:\n",
    "    count += 1\n",
    "    if count > limit:\n",
    "        break\n",
    "    dataset.append({\n",
    "        'user_input': question['question'],\n",
    "        'retrieved_contexts': [\"this is a test context\"],\n",
    "        'response': \"ศ.ดร.วิวัฒน์ วัฒนาวุฒิ\",\n",
    "        'reference': question['ground_truth'],\n",
    "    })"
   ]
  },
  {
   "cell_type": "code",
   "execution_count": 34,
   "id": "aaec3eb4",
   "metadata": {},
   "outputs": [
    {
     "name": "stdout",
     "output_type": "stream",
     "text": [
      "EvaluationDataset(features=['user_input', 'retrieved_contexts', 'response', 'reference'], len=5)\n",
      "user_input='อาจารย์ท่านใดบ้างที่จบปริญญาตรีวิศวกรรมคอมพิวเตอร์จากจุฬาฯ' retrieved_contexts=['this is a test context'] reference_contexts=None response='ศ.ดร.วิวัฒน์ วัฒนาวุฒิ' multi_responses=None reference='ศ.ดร.วิวัฒน์ วัฒนาวุฒิ, รศ.ดร.เกริก ภิรมย์โสภา, รศ.ดร.ดวงดาว วิชาดากุล, รศ.ดร.ธนารัตน์ ชลิดาพงศ์, รศ.ดร.นัทที นิภานันท์, รศ.ดร.วีระ เหมืองสิน, ผศ.ดร.ณรงค์เดช กีรติพรานนท์, ผศ.ดร.ณัฐวุฒิ หนูไพโรจน์, ผศ.ดร.เนื่องวงศ์ ทวยเจริญ, ผศ.ดร.พิตติพล คันธวัฒน์, ผศ.ดร.สุกรี สินธุภิญโญ, ผศ.ดร.อรรถวิทย์ สุดแสง, อ.ดร.กมลลักษณ์ สุขเสน, อ.ดร.เจษฏา ธัชแก้วกรพินธุ์, ดร.ณัท ภวสันต์, อ.ดร.วริษา ศรีไตรรัตนรักษ์, อ.ดร.สุขุม สัตตรัตนามัย' rubrics=None\n"
     ]
    }
   ],
   "source": [
    "eval_dataset = EvaluationDataset.from_list(dataset)\n",
    "\n",
    "print(eval_dataset)\n",
    "print(eval_dataset[0])"
   ]
  },
  {
   "cell_type": "code",
   "execution_count": 35,
   "id": "60bb5b61",
   "metadata": {},
   "outputs": [
    {
     "name": "stderr",
     "output_type": "stream",
     "text": [
      "Evaluating:  30%|███       | 6/20 [00:10<00:29,  2.10s/it]Exception raised in Job[0]: GoogleGenerativeAIError(Error embedding content: 429 Resource has been exhausted (e.g. check quota).)\n",
      "Exception raised in Job[4]: GoogleGenerativeAIError(Error embedding content: 429 Resource has been exhausted (e.g. check quota).)\n",
      "Exception raised in Job[12]: GoogleGenerativeAIError(Error embedding content: 429 Resource has been exhausted (e.g. check quota).)\n",
      "Exception raised in Job[16]: GoogleGenerativeAIError(Error embedding content: 429 Resource has been exhausted (e.g. check quota).)\n",
      "Evaluating: 100%|██████████| 20/20 [00:13<00:00,  1.50it/s]\n"
     ]
    },
    {
     "name": "stdout",
     "output_type": "stream",
     "text": [
      "{'answer_relevancy': 0.6954, 'context_precision': 0.0000, 'faithfulness': 0.0000, 'context_recall': 0.0000}\n"
     ]
    }
   ],
   "source": [
    "result = evaluate(eval_dataset, llm=llm, embeddings=embeddings)\n",
    "\n",
    "print(result)"
   ]
  },
  {
   "cell_type": "code",
   "execution_count": 36,
   "id": "32a8d343",
   "metadata": {},
   "outputs": [
    {
     "data": {
      "text/html": [
       "<div>\n",
       "<style scoped>\n",
       "    .dataframe tbody tr th:only-of-type {\n",
       "        vertical-align: middle;\n",
       "    }\n",
       "\n",
       "    .dataframe tbody tr th {\n",
       "        vertical-align: top;\n",
       "    }\n",
       "\n",
       "    .dataframe thead th {\n",
       "        text-align: right;\n",
       "    }\n",
       "</style>\n",
       "<table border=\"1\" class=\"dataframe\">\n",
       "  <thead>\n",
       "    <tr style=\"text-align: right;\">\n",
       "      <th></th>\n",
       "      <th>user_input</th>\n",
       "      <th>retrieved_contexts</th>\n",
       "      <th>response</th>\n",
       "      <th>reference</th>\n",
       "      <th>answer_relevancy</th>\n",
       "      <th>context_precision</th>\n",
       "      <th>faithfulness</th>\n",
       "      <th>context_recall</th>\n",
       "    </tr>\n",
       "  </thead>\n",
       "  <tbody>\n",
       "    <tr>\n",
       "      <th>0</th>\n",
       "      <td>อาจารย์ท่านใดบ้างที่จบปริญญาตรีวิศวกรรมคอมพิวเตอร์จากจุฬาฯ</td>\n",
       "      <td>[this is a test context]</td>\n",
       "      <td>ศ.ดร.วิวัฒน์ วัฒนาวุฒิ</td>\n",
       "      <td>ศ.ดร.วิวัฒน์ วัฒนาวุฒิ, รศ.ดร.เกริก ภิรมย์โสภา, รศ.ดร.ดวงดาว วิชาดากุล, รศ.ดร.ธนารัตน์ ชลิดาพงศ์, รศ.ดร.นัทที นิภานันท์, รศ.ดร.วีระ เหมืองสิน, ผศ.ดร.ณรงค์เดช กีรติพรานนท์, ผศ.ดร.ณัฐวุฒิ หนูไพโรจน์, ผศ.ดร.เนื่องวงศ์ ทวยเจริญ, ผศ.ดร.พิตติพล คันธวัฒน์, ผศ.ดร.สุกรี สินธุภิญโญ, ผศ.ดร.อรรถวิทย์ สุดแสง, อ.ดร.กมลลักษณ์ สุขเสน, อ.ดร.เจษฏา ธัชแก้วกรพินธุ์, ดร.ณัท ภวสันต์, อ.ดร.วริษา ศรีไตรรัตนรักษ์, อ.ดร.สุขุม สัตตรัตนามัย</td>\n",
       "      <td>NaN</td>\n",
       "      <td>0.0</td>\n",
       "      <td>0.0</td>\n",
       "      <td>0.0</td>\n",
       "    </tr>\n",
       "    <tr>\n",
       "      <th>1</th>\n",
       "      <td>อาจารย์ท่านใดบ้างที่จบการศึกษาจากประเทศญี่ปุ่น</td>\n",
       "      <td>[this is a test context]</td>\n",
       "      <td>ศ.ดร.วิวัฒน์ วัฒนาวุฒิ</td>\n",
       "      <td>ศ.ดร.บุญเสริม กิจศิริกุล, รศ.ดร.กุลธิดา โรจน์วิบูลย์ชัย, รศ.ดร.พิษณุ คนองชัยยศ, ดร.ณัท ภวสันต์, ผศ.ดร.อาทิตย์ ทองทักษ์, ดร.สุธี เรืองวิเศษ</td>\n",
       "      <td>NaN</td>\n",
       "      <td>0.0</td>\n",
       "      <td>0.0</td>\n",
       "      <td>0.0</td>\n",
       "    </tr>\n",
       "    <tr>\n",
       "      <th>2</th>\n",
       "      <td>อาจารย์ท่านใดบ้างที่จบการศึกษาจาก Massachusetts Institute of Technology (MIT)</td>\n",
       "      <td>[this is a test context]</td>\n",
       "      <td>ศ.ดร.วิวัฒน์ วัฒนาวุฒิ</td>\n",
       "      <td>ผศ.ดร.เอกพล ช่วงสุวนิช, รศ.ดร.อติวงศ์ สุชาโต, ดร.สุธี เรืองวิเศษ</td>\n",
       "      <td>0.695428</td>\n",
       "      <td>0.0</td>\n",
       "      <td>0.0</td>\n",
       "      <td>0.0</td>\n",
       "    </tr>\n",
       "    <tr>\n",
       "      <th>3</th>\n",
       "      <td>อาจารย์ท่านใดบ้างที่จบการศึกษาจากประเทศอังกฤษ</td>\n",
       "      <td>[this is a test context]</td>\n",
       "      <td>ศ.ดร.วิวัฒน์ วัฒนาวุฒิ</td>\n",
       "      <td>ศ.ดร.ประภาส จงสถิตย์วัฒนา, รศ.ดร.ทวิตีย์ เสนีวงศ์ ณ อยุธยา, รศ.ดร.เศรษฐา ปานงาม, รศ.ดร.วีระ เหมืองสิน, รศ.ดร.วิษณุ โคตรจรัส, อ.ดร.มัชฌิกา อ่องแตง</td>\n",
       "      <td>NaN</td>\n",
       "      <td>0.0</td>\n",
       "      <td>0.0</td>\n",
       "      <td>0.0</td>\n",
       "    </tr>\n",
       "    <tr>\n",
       "      <th>4</th>\n",
       "      <td>อาจารย์ท่านใดที่มีความสนใจด้าน Artificial Intelligence หรือ Machine Learning</td>\n",
       "      <td>[this is a test context]</td>\n",
       "      <td>ศ.ดร.วิวัฒน์ วัฒนาวุฒิ</td>\n",
       "      <td>ศ.ดร.บุญเสริม กิจศิริกุล, ศ.ดร.ประภาส จงสถิตย์วัฒนา, รศ.ดร.โชติรัตน์ รัตนามหัทธนะ, รศ.ดร.พีรพล เวทีกูล, รศ.ดร. วิษณุ โคตรจรัส, ผศ.ดร.ณรงค์เดช กีรติพรานนท์, ผศ.ดร.พรรณราย ศิริเจริญ, ผศ.ดร.พิตติพล คันธวัฒน์, ผศ.ดร. สุกรี สินธุภิญโญ, ผศ.ดร. เอกพล ช่วงสุวนิช, อ.ดร.เจษฏา ธัชแก้วกรพินธุ์, ดร.ณัท ภวสันต์, อ.ดร.วริษา ศรีไตรรัตนรักษ์</td>\n",
       "      <td>NaN</td>\n",
       "      <td>0.0</td>\n",
       "      <td>0.0</td>\n",
       "      <td>0.0</td>\n",
       "    </tr>\n",
       "  </tbody>\n",
       "</table>\n",
       "</div>"
      ],
      "text/plain": [
       "                                                                      user_input  \\\n",
       "0                     อาจารย์ท่านใดบ้างที่จบปริญญาตรีวิศวกรรมคอมพิวเตอร์จากจุฬาฯ   \n",
       "1                                 อาจารย์ท่านใดบ้างที่จบการศึกษาจากประเทศญี่ปุ่น   \n",
       "2  อาจารย์ท่านใดบ้างที่จบการศึกษาจาก Massachusetts Institute of Technology (MIT)   \n",
       "3                                  อาจารย์ท่านใดบ้างที่จบการศึกษาจากประเทศอังกฤษ   \n",
       "4   อาจารย์ท่านใดที่มีความสนใจด้าน Artificial Intelligence หรือ Machine Learning   \n",
       "\n",
       "         retrieved_contexts                response  \\\n",
       "0  [this is a test context]  ศ.ดร.วิวัฒน์ วัฒนาวุฒิ   \n",
       "1  [this is a test context]  ศ.ดร.วิวัฒน์ วัฒนาวุฒิ   \n",
       "2  [this is a test context]  ศ.ดร.วิวัฒน์ วัฒนาวุฒิ   \n",
       "3  [this is a test context]  ศ.ดร.วิวัฒน์ วัฒนาวุฒิ   \n",
       "4  [this is a test context]  ศ.ดร.วิวัฒน์ วัฒนาวุฒิ   \n",
       "\n",
       "                                                                                                                                                                                                                                                                                                                                                                                                                          reference  \\\n",
       "0  ศ.ดร.วิวัฒน์ วัฒนาวุฒิ, รศ.ดร.เกริก ภิรมย์โสภา, รศ.ดร.ดวงดาว วิชาดากุล, รศ.ดร.ธนารัตน์ ชลิดาพงศ์, รศ.ดร.นัทที นิภานันท์, รศ.ดร.วีระ เหมืองสิน, ผศ.ดร.ณรงค์เดช กีรติพรานนท์, ผศ.ดร.ณัฐวุฒิ หนูไพโรจน์, ผศ.ดร.เนื่องวงศ์ ทวยเจริญ, ผศ.ดร.พิตติพล คันธวัฒน์, ผศ.ดร.สุกรี สินธุภิญโญ, ผศ.ดร.อรรถวิทย์ สุดแสง, อ.ดร.กมลลักษณ์ สุขเสน, อ.ดร.เจษฏา ธัชแก้วกรพินธุ์, ดร.ณัท ภวสันต์, อ.ดร.วริษา ศรีไตรรัตนรักษ์, อ.ดร.สุขุม สัตตรัตนามัย   \n",
       "1                                                                                                                                                                                                                                                                                        ศ.ดร.บุญเสริม กิจศิริกุล, รศ.ดร.กุลธิดา โรจน์วิบูลย์ชัย, รศ.ดร.พิษณุ คนองชัยยศ, ดร.ณัท ภวสันต์, ผศ.ดร.อาทิตย์ ทองทักษ์, ดร.สุธี เรืองวิเศษ   \n",
       "2                                                                                                                                                                                                                                                                                                                                                                  ผศ.ดร.เอกพล ช่วงสุวนิช, รศ.ดร.อติวงศ์ สุชาโต, ดร.สุธี เรืองวิเศษ   \n",
       "3                                                                                                                                                                                                                                                                                 ศ.ดร.ประภาส จงสถิตย์วัฒนา, รศ.ดร.ทวิตีย์ เสนีวงศ์ ณ อยุธยา, รศ.ดร.เศรษฐา ปานงาม, รศ.ดร.วีระ เหมืองสิน, รศ.ดร.วิษณุ โคตรจรัส, อ.ดร.มัชฌิกา อ่องแตง   \n",
       "4                                                                                            ศ.ดร.บุญเสริม กิจศิริกุล, ศ.ดร.ประภาส จงสถิตย์วัฒนา, รศ.ดร.โชติรัตน์ รัตนามหัทธนะ, รศ.ดร.พีรพล เวทีกูล, รศ.ดร. วิษณุ โคตรจรัส, ผศ.ดร.ณรงค์เดช กีรติพรานนท์, ผศ.ดร.พรรณราย ศิริเจริญ, ผศ.ดร.พิตติพล คันธวัฒน์, ผศ.ดร. สุกรี สินธุภิญโญ, ผศ.ดร. เอกพล ช่วงสุวนิช, อ.ดร.เจษฏา ธัชแก้วกรพินธุ์, ดร.ณัท ภวสันต์, อ.ดร.วริษา ศรีไตรรัตนรักษ์   \n",
       "\n",
       "   answer_relevancy  context_precision  faithfulness  context_recall  \n",
       "0               NaN                0.0           0.0             0.0  \n",
       "1               NaN                0.0           0.0             0.0  \n",
       "2          0.695428                0.0           0.0             0.0  \n",
       "3               NaN                0.0           0.0             0.0  \n",
       "4               NaN                0.0           0.0             0.0  "
      ]
     },
     "metadata": {},
     "output_type": "display_data"
    }
   ],
   "source": [
    "results_df = result.to_pandas()\n",
    "display(results_df)"
   ]
  },
  {
   "cell_type": "code",
   "execution_count": null,
   "id": "3d3768a3",
   "metadata": {},
   "outputs": [],
   "source": []
  }
 ],
 "metadata": {
  "kernelspec": {
   "display_name": "venv",
   "language": "python",
   "name": "python3"
  },
  "language_info": {
   "codemirror_mode": {
    "name": "ipython",
    "version": 3
   },
   "file_extension": ".py",
   "mimetype": "text/x-python",
   "name": "python",
   "nbconvert_exporter": "python",
   "pygments_lexer": "ipython3",
   "version": "3.10.14"
  }
 },
 "nbformat": 4,
 "nbformat_minor": 5
}
